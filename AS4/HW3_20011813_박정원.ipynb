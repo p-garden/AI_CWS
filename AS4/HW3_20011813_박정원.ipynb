{
 "cells": [
  {
   "cell_type": "markdown",
   "id": "22365b3a-037a-47e7-a6c6-198b3b1d7d9c",
   "metadata": {},
   "source": [
    "# 1.모듈및 데이터 로드"
   ]
  },
  {
   "cell_type": "code",
   "execution_count": 8,
   "id": "ee9ec729-5126-403b-8eae-a2200aa253da",
   "metadata": {},
   "outputs": [],
   "source": [
    "import pandas as pd\n",
    "import numpy as np\n",
    "import matplotlib.pyplot as plt\n",
    "import seaborn as sns\n",
    "import matplotlib.pyplot as plt\n"
   ]
  },
  {
   "cell_type": "code",
   "execution_count": 24,
   "id": "e5ef3068-201e-4ee4-b996-4b4004afd008",
   "metadata": {},
   "outputs": [
    {
     "data": {
      "text/html": [
       "<div>\n",
       "<style scoped>\n",
       "    .dataframe tbody tr th:only-of-type {\n",
       "        vertical-align: middle;\n",
       "    }\n",
       "\n",
       "    .dataframe tbody tr th {\n",
       "        vertical-align: top;\n",
       "    }\n",
       "\n",
       "    .dataframe thead th {\n",
       "        text-align: right;\n",
       "    }\n",
       "</style>\n",
       "<table border=\"1\" class=\"dataframe\">\n",
       "  <thead>\n",
       "    <tr style=\"text-align: right;\">\n",
       "      <th></th>\n",
       "      <th>index</th>\n",
       "      <th>label</th>\n",
       "      <th>px1</th>\n",
       "      <th>px2</th>\n",
       "      <th>px3</th>\n",
       "      <th>px4</th>\n",
       "      <th>px5</th>\n",
       "      <th>px6</th>\n",
       "      <th>px7</th>\n",
       "      <th>px8</th>\n",
       "      <th>...</th>\n",
       "      <th>px775</th>\n",
       "      <th>px776</th>\n",
       "      <th>px777</th>\n",
       "      <th>px778</th>\n",
       "      <th>px779</th>\n",
       "      <th>px780</th>\n",
       "      <th>px781</th>\n",
       "      <th>px782</th>\n",
       "      <th>px783</th>\n",
       "      <th>px784</th>\n",
       "    </tr>\n",
       "  </thead>\n",
       "  <tbody>\n",
       "    <tr>\n",
       "      <th>0</th>\n",
       "      <td>0</td>\n",
       "      <td>5</td>\n",
       "      <td>0</td>\n",
       "      <td>0</td>\n",
       "      <td>0</td>\n",
       "      <td>0</td>\n",
       "      <td>0</td>\n",
       "      <td>0</td>\n",
       "      <td>0</td>\n",
       "      <td>0</td>\n",
       "      <td>...</td>\n",
       "      <td>0</td>\n",
       "      <td>0</td>\n",
       "      <td>0</td>\n",
       "      <td>0</td>\n",
       "      <td>0</td>\n",
       "      <td>0</td>\n",
       "      <td>0</td>\n",
       "      <td>0</td>\n",
       "      <td>0</td>\n",
       "      <td>0</td>\n",
       "    </tr>\n",
       "    <tr>\n",
       "      <th>1</th>\n",
       "      <td>1</td>\n",
       "      <td>0</td>\n",
       "      <td>0</td>\n",
       "      <td>0</td>\n",
       "      <td>0</td>\n",
       "      <td>0</td>\n",
       "      <td>0</td>\n",
       "      <td>0</td>\n",
       "      <td>0</td>\n",
       "      <td>0</td>\n",
       "      <td>...</td>\n",
       "      <td>0</td>\n",
       "      <td>0</td>\n",
       "      <td>0</td>\n",
       "      <td>0</td>\n",
       "      <td>0</td>\n",
       "      <td>0</td>\n",
       "      <td>0</td>\n",
       "      <td>0</td>\n",
       "      <td>0</td>\n",
       "      <td>0</td>\n",
       "    </tr>\n",
       "    <tr>\n",
       "      <th>2</th>\n",
       "      <td>2</td>\n",
       "      <td>4</td>\n",
       "      <td>0</td>\n",
       "      <td>0</td>\n",
       "      <td>0</td>\n",
       "      <td>0</td>\n",
       "      <td>0</td>\n",
       "      <td>0</td>\n",
       "      <td>0</td>\n",
       "      <td>0</td>\n",
       "      <td>...</td>\n",
       "      <td>0</td>\n",
       "      <td>0</td>\n",
       "      <td>0</td>\n",
       "      <td>0</td>\n",
       "      <td>0</td>\n",
       "      <td>0</td>\n",
       "      <td>0</td>\n",
       "      <td>0</td>\n",
       "      <td>0</td>\n",
       "      <td>0</td>\n",
       "    </tr>\n",
       "    <tr>\n",
       "      <th>3</th>\n",
       "      <td>3</td>\n",
       "      <td>1</td>\n",
       "      <td>0</td>\n",
       "      <td>0</td>\n",
       "      <td>0</td>\n",
       "      <td>0</td>\n",
       "      <td>0</td>\n",
       "      <td>0</td>\n",
       "      <td>0</td>\n",
       "      <td>0</td>\n",
       "      <td>...</td>\n",
       "      <td>0</td>\n",
       "      <td>0</td>\n",
       "      <td>0</td>\n",
       "      <td>0</td>\n",
       "      <td>0</td>\n",
       "      <td>0</td>\n",
       "      <td>0</td>\n",
       "      <td>0</td>\n",
       "      <td>0</td>\n",
       "      <td>0</td>\n",
       "    </tr>\n",
       "    <tr>\n",
       "      <th>4</th>\n",
       "      <td>4</td>\n",
       "      <td>9</td>\n",
       "      <td>0</td>\n",
       "      <td>0</td>\n",
       "      <td>0</td>\n",
       "      <td>0</td>\n",
       "      <td>0</td>\n",
       "      <td>0</td>\n",
       "      <td>0</td>\n",
       "      <td>0</td>\n",
       "      <td>...</td>\n",
       "      <td>0</td>\n",
       "      <td>0</td>\n",
       "      <td>0</td>\n",
       "      <td>0</td>\n",
       "      <td>0</td>\n",
       "      <td>0</td>\n",
       "      <td>0</td>\n",
       "      <td>0</td>\n",
       "      <td>0</td>\n",
       "      <td>0</td>\n",
       "    </tr>\n",
       "    <tr>\n",
       "      <th>...</th>\n",
       "      <td>...</td>\n",
       "      <td>...</td>\n",
       "      <td>...</td>\n",
       "      <td>...</td>\n",
       "      <td>...</td>\n",
       "      <td>...</td>\n",
       "      <td>...</td>\n",
       "      <td>...</td>\n",
       "      <td>...</td>\n",
       "      <td>...</td>\n",
       "      <td>...</td>\n",
       "      <td>...</td>\n",
       "      <td>...</td>\n",
       "      <td>...</td>\n",
       "      <td>...</td>\n",
       "      <td>...</td>\n",
       "      <td>...</td>\n",
       "      <td>...</td>\n",
       "      <td>...</td>\n",
       "      <td>...</td>\n",
       "      <td>...</td>\n",
       "    </tr>\n",
       "    <tr>\n",
       "      <th>59995</th>\n",
       "      <td>59995</td>\n",
       "      <td>8</td>\n",
       "      <td>0</td>\n",
       "      <td>0</td>\n",
       "      <td>0</td>\n",
       "      <td>0</td>\n",
       "      <td>0</td>\n",
       "      <td>0</td>\n",
       "      <td>0</td>\n",
       "      <td>0</td>\n",
       "      <td>...</td>\n",
       "      <td>0</td>\n",
       "      <td>0</td>\n",
       "      <td>0</td>\n",
       "      <td>0</td>\n",
       "      <td>0</td>\n",
       "      <td>0</td>\n",
       "      <td>0</td>\n",
       "      <td>0</td>\n",
       "      <td>0</td>\n",
       "      <td>0</td>\n",
       "    </tr>\n",
       "    <tr>\n",
       "      <th>59996</th>\n",
       "      <td>59996</td>\n",
       "      <td>3</td>\n",
       "      <td>0</td>\n",
       "      <td>0</td>\n",
       "      <td>0</td>\n",
       "      <td>0</td>\n",
       "      <td>0</td>\n",
       "      <td>0</td>\n",
       "      <td>0</td>\n",
       "      <td>0</td>\n",
       "      <td>...</td>\n",
       "      <td>0</td>\n",
       "      <td>0</td>\n",
       "      <td>0</td>\n",
       "      <td>0</td>\n",
       "      <td>0</td>\n",
       "      <td>0</td>\n",
       "      <td>0</td>\n",
       "      <td>0</td>\n",
       "      <td>0</td>\n",
       "      <td>0</td>\n",
       "    </tr>\n",
       "    <tr>\n",
       "      <th>59997</th>\n",
       "      <td>59997</td>\n",
       "      <td>5</td>\n",
       "      <td>0</td>\n",
       "      <td>0</td>\n",
       "      <td>0</td>\n",
       "      <td>0</td>\n",
       "      <td>0</td>\n",
       "      <td>0</td>\n",
       "      <td>0</td>\n",
       "      <td>0</td>\n",
       "      <td>...</td>\n",
       "      <td>0</td>\n",
       "      <td>0</td>\n",
       "      <td>0</td>\n",
       "      <td>0</td>\n",
       "      <td>0</td>\n",
       "      <td>0</td>\n",
       "      <td>0</td>\n",
       "      <td>0</td>\n",
       "      <td>0</td>\n",
       "      <td>0</td>\n",
       "    </tr>\n",
       "    <tr>\n",
       "      <th>59998</th>\n",
       "      <td>59998</td>\n",
       "      <td>6</td>\n",
       "      <td>0</td>\n",
       "      <td>0</td>\n",
       "      <td>0</td>\n",
       "      <td>0</td>\n",
       "      <td>0</td>\n",
       "      <td>0</td>\n",
       "      <td>0</td>\n",
       "      <td>0</td>\n",
       "      <td>...</td>\n",
       "      <td>0</td>\n",
       "      <td>0</td>\n",
       "      <td>0</td>\n",
       "      <td>0</td>\n",
       "      <td>0</td>\n",
       "      <td>0</td>\n",
       "      <td>0</td>\n",
       "      <td>0</td>\n",
       "      <td>0</td>\n",
       "      <td>0</td>\n",
       "    </tr>\n",
       "    <tr>\n",
       "      <th>59999</th>\n",
       "      <td>59999</td>\n",
       "      <td>8</td>\n",
       "      <td>0</td>\n",
       "      <td>0</td>\n",
       "      <td>0</td>\n",
       "      <td>0</td>\n",
       "      <td>0</td>\n",
       "      <td>0</td>\n",
       "      <td>0</td>\n",
       "      <td>0</td>\n",
       "      <td>...</td>\n",
       "      <td>0</td>\n",
       "      <td>0</td>\n",
       "      <td>0</td>\n",
       "      <td>0</td>\n",
       "      <td>0</td>\n",
       "      <td>0</td>\n",
       "      <td>0</td>\n",
       "      <td>0</td>\n",
       "      <td>0</td>\n",
       "      <td>0</td>\n",
       "    </tr>\n",
       "  </tbody>\n",
       "</table>\n",
       "<p>60000 rows × 786 columns</p>\n",
       "</div>"
      ],
      "text/plain": [
       "       index  label  px1  px2  px3  px4  px5  px6  px7  px8  ...  px775  \\\n",
       "0          0      5    0    0    0    0    0    0    0    0  ...      0   \n",
       "1          1      0    0    0    0    0    0    0    0    0  ...      0   \n",
       "2          2      4    0    0    0    0    0    0    0    0  ...      0   \n",
       "3          3      1    0    0    0    0    0    0    0    0  ...      0   \n",
       "4          4      9    0    0    0    0    0    0    0    0  ...      0   \n",
       "...      ...    ...  ...  ...  ...  ...  ...  ...  ...  ...  ...    ...   \n",
       "59995  59995      8    0    0    0    0    0    0    0    0  ...      0   \n",
       "59996  59996      3    0    0    0    0    0    0    0    0  ...      0   \n",
       "59997  59997      5    0    0    0    0    0    0    0    0  ...      0   \n",
       "59998  59998      6    0    0    0    0    0    0    0    0  ...      0   \n",
       "59999  59999      8    0    0    0    0    0    0    0    0  ...      0   \n",
       "\n",
       "       px776  px777  px778  px779  px780  px781  px782  px783  px784  \n",
       "0          0      0      0      0      0      0      0      0      0  \n",
       "1          0      0      0      0      0      0      0      0      0  \n",
       "2          0      0      0      0      0      0      0      0      0  \n",
       "3          0      0      0      0      0      0      0      0      0  \n",
       "4          0      0      0      0      0      0      0      0      0  \n",
       "...      ...    ...    ...    ...    ...    ...    ...    ...    ...  \n",
       "59995      0      0      0      0      0      0      0      0      0  \n",
       "59996      0      0      0      0      0      0      0      0      0  \n",
       "59997      0      0      0      0      0      0      0      0      0  \n",
       "59998      0      0      0      0      0      0      0      0      0  \n",
       "59999      0      0      0      0      0      0      0      0      0  \n",
       "\n",
       "[60000 rows x 786 columns]"
      ]
     },
     "execution_count": 24,
     "metadata": {},
     "output_type": "execute_result"
    }
   ],
   "source": [
    "train = pd.read_csv('data/train.csv')\n",
    "test = pd.read_csv('data/test.csv')\n",
    "train"
   ]
  },
  {
   "cell_type": "markdown",
   "id": "8047ee49-a6da-476b-a4bf-002142ee7548",
   "metadata": {},
   "source": [
    "# 2. EDA"
   ]
  },
  {
   "cell_type": "markdown",
   "id": "c0456381-c0ad-43f3-b4fc-c0ed0eafa853",
   "metadata": {},
   "source": [
    "0~9의 라벨당 몇개의 값이있는지 시각화  \n",
    "이미지 데이터이기 때문에 이미지로 표현"
   ]
  },
  {
   "cell_type": "code",
   "execution_count": 13,
   "id": "d7f50b62-65d2-4bf8-804c-7bed903900b5",
   "metadata": {},
   "outputs": [
    {
     "data": {
      "image/png": "[encoded data removed]",
      "text/plain": [
       "<Figure size 1000x600 with 1 Axes>"
      ]
     },
     "metadata": {},
     "output_type": "display_data"
    },
    {
     "data": {
      "image/png": "[encoded data removed]",
      "text/plain": [
       "<Figure size 1000x1000 with 9 Axes>"
      ]
     },
     "metadata": {},
     "output_type": "display_data"
    }
   ],
   "source": [
    "import matplotlib.pyplot as plt\n",
    "import seaborn as sns\n",
    "\n",
    "# 라벨 분포 확인\n",
    "label_counts = train['label'].value_counts()\n",
    "plt.figure(figsize=(10, 6))\n",
    "sns.barplot(x=label_counts.index, y=label_counts.values, palette=\"viridis\")\n",
    "plt.title(\"Label Distribution\")\n",
    "plt.xlabel(\"Digits\")\n",
    "plt.ylabel(\"Count\")\n",
    "plt.show()\n",
    "\n",
    "# 9개의 이미지와 레이블 시각화\n",
    "fig, axes = plt.subplots(3, 3, figsize=(10, 10))  # 3x3 서브플롯 생성\n",
    "axes = axes.ravel()  # 2D 배열을 1D로 변환\n",
    "\n",
    "for i in range(9):\n",
    "    # i번째 데이터의 픽셀값과 레이블 가져오기\n",
    "    pixels = train.iloc[i, 1:785].values.reshape(28, 28)  # 정확히 784개 픽셀값 선택\n",
    "    label = train.iloc[i, 1]  # label 값 가져오기\n",
    "    \n",
    "    # 이미지와 레이블 출력\n",
    "    axes[i].imshow(pixels, cmap='gray')\n",
    "    axes[i].set_title(f\"Label: {label}\")\n",
    "    axes[i].axis('off')\n",
    "\n",
    "plt.tight_layout()  # 레이아웃 조정\n",
    "plt.show()\n"
   ]
  },
  {
   "cell_type": "code",
   "execution_count": 16,
   "id": "b60c257b-6c14-4fcc-aef3-7286f668f253",
   "metadata": {},
   "outputs": [
    {
     "data": {
      "image/png": "[encoded data removed]",
      "text/plain": [
       "<Figure size 640x480 with 1 Axes>"
      ]
     },
     "metadata": {},
     "output_type": "display_data"
    }
   ],
   "source": [
    "# 픽셀 값 분포 확인\n",
    "pixels = train.iloc[:, 2:].values.flatten()\n",
    "plt.hist(pixels, bins=50, color='blue', alpha=0.7)\n",
    "plt.title(\"Pixel Value Distribution\")\n",
    "plt.xlabel(\"Pixel Intensity\")\n",
    "plt.ylabel(\"Frequency\")\n",
    "plt.show()\n"
   ]
  },
  {
   "cell_type": "markdown",
   "id": "610e7b4a-f4cb-4e1a-a1fc-2d2e723e3213",
   "metadata": {},
   "source": [
    "픽셀값의 분포가 일정하지 않아 정규화가 필요해 보임"
   ]
  },
  {
   "cell_type": "markdown",
   "id": "89572229-1d42-44fb-962f-8d7bfe445b1e",
   "metadata": {},
   "source": [
    "# 3. 데이터  전처리"
   ]
  },
  {
   "cell_type": "code",
   "execution_count": 25,
   "id": "9e2b5cae-5f44-4b46-b25b-0a1e919c3cc9",
   "metadata": {},
   "outputs": [
    {
     "name": "stdout",
     "output_type": "stream",
     "text": [
      "Updated X_train shape: (48000, 28, 28, 1)\n",
      "Updated X_val shape: (12000, 28, 28, 1)\n"
     ]
    }
   ],
   "source": [
    "from sklearn.model_selection import train_test_split\n",
    "\n",
    "# Feature와 라벨 분리\n",
    "X = train.drop(columns=['label']).values\n",
    "y = train['label'].values\n",
    "\n",
    "# 정규화 (0~1로 스케일링)\n",
    "X = X / 255.0\n",
    "\n",
    "# 훈련 데이터와 검증 데이터 분리\n",
    "X_train, X_val, y_train, y_val = train_test_split(X, y, test_size=0.2, random_state=42)\n",
    "\n",
    "# 1. 라벨 제거\n",
    "X_train = X_train[:, 1:]  # 첫 번째 열(label) 제거\n",
    "X_val = X_val[:, 1:]      # 동일하게 적용\n",
    "\n",
    "# 2. 차원 변환\n",
    "X_train = X_train.reshape(-1, 28, 28, 1)\n",
    "X_val = X_val.reshape(-1, 28, 28, 1)\n",
    "\n",
    "# 결과 확인\n",
    "print(\"Updated X_train shape:\", X_train.shape)\n",
    "print(\"Updated X_val shape:\", X_val.shape)\n"
   ]
  },
  {
   "cell_type": "markdown",
   "id": "01a3130f-8a8b-4a96-bd0b-e60f73d4e451",
   "metadata": {},
   "source": [
    "# 4. 모델 선택 및 학습"
   ]
  },
  {
   "cell_type": "markdown",
   "id": "1f373006-7fb6-4193-9c9a-9c9a8482ae0d",
   "metadata": {},
   "source": [
    "기본적인 CNN모델 구현"
   ]
  },
  {
   "cell_type": "code",
   "execution_count": 26,
   "id": "04281721-28b6-4cb7-93e4-c903d6bb0bad",
   "metadata": {},
   "outputs": [
    {
     "name": "stderr",
     "output_type": "stream",
     "text": [
      "C:\\Users\\j2982\\Anaconda 3\\Lib\\site-packages\\keras\\src\\layers\\convolutional\\base_conv.py:107: UserWarning: Do not pass an `input_shape`/`input_dim` argument to a layer. When using Sequential models, prefer using an `Input(shape)` object as the first layer in the model instead.\n",
      "  super().__init__(activity_regularizer=activity_regularizer, **kwargs)\n"
     ]
    },
    {
     "name": "stdout",
     "output_type": "stream",
     "text": [
      "Epoch 1/10\n",
      "\u001b[1m750/750\u001b[0m \u001b[32m━━━━━━━━━━━━━━━━━━━━\u001b[0m\u001b[37m\u001b[0m \u001b[1m20s\u001b[0m 24ms/step - accuracy: 0.7863 - loss: 0.6572 - val_accuracy: 0.9774 - val_loss: 0.0750\n",
      "Epoch 2/10\n",
      "\u001b[1m750/750\u001b[0m \u001b[32m━━━━━━━━━━━━━━━━━━━━\u001b[0m\u001b[37m\u001b[0m \u001b[1m19s\u001b[0m 25ms/step - accuracy: 0.9618 - loss: 0.1273 - val_accuracy: 0.9852 - val_loss: 0.0530\n",
      "Epoch 3/10\n",
      "\u001b[1m750/750\u001b[0m \u001b[32m━━━━━━━━━━━━━━━━━━━━\u001b[0m\u001b[37m\u001b[0m \u001b[1m18s\u001b[0m 24ms/step - accuracy: 0.9716 - loss: 0.0950 - val_accuracy: 0.9868 - val_loss: 0.0456\n",
      "Epoch 4/10\n",
      "\u001b[1m750/750\u001b[0m \u001b[32m━━━━━━━━━━━━━━━━━━━━\u001b[0m\u001b[37m\u001b[0m \u001b[1m18s\u001b[0m 24ms/step - accuracy: 0.9771 - loss: 0.0766 - val_accuracy: 0.9874 - val_loss: 0.0434\n",
      "Epoch 5/10\n",
      "\u001b[1m750/750\u001b[0m \u001b[32m━━━━━━━━━━━━━━━━━━━━\u001b[0m\u001b[37m\u001b[0m \u001b[1m20s\u001b[0m 26ms/step - accuracy: 0.9791 - loss: 0.0683 - val_accuracy: 0.9897 - val_loss: 0.0356\n",
      "Epoch 6/10\n",
      "\u001b[1m750/750\u001b[0m \u001b[32m━━━━━━━━━━━━━━━━━━━━\u001b[0m\u001b[37m\u001b[0m \u001b[1m25s\u001b[0m 33ms/step - accuracy: 0.9805 - loss: 0.0627 - val_accuracy: 0.9909 - val_loss: 0.0331\n",
      "Epoch 7/10\n",
      "\u001b[1m750/750\u001b[0m \u001b[32m━━━━━━━━━━━━━━━━━━━━\u001b[0m\u001b[37m\u001b[0m \u001b[1m27s\u001b[0m 36ms/step - accuracy: 0.9827 - loss: 0.0566 - val_accuracy: 0.9903 - val_loss: 0.0306\n",
      "Epoch 8/10\n",
      "\u001b[1m750/750\u001b[0m \u001b[32m━━━━━━━━━━━━━━━━━━━━\u001b[0m\u001b[37m\u001b[0m \u001b[1m35s\u001b[0m 47ms/step - accuracy: 0.9847 - loss: 0.0518 - val_accuracy: 0.9912 - val_loss: 0.0309\n",
      "Epoch 9/10\n",
      "\u001b[1m750/750\u001b[0m \u001b[32m━━━━━━━━━━━━━━━━━━━━\u001b[0m\u001b[37m\u001b[0m \u001b[1m20s\u001b[0m 27ms/step - accuracy: 0.9858 - loss: 0.0468 - val_accuracy: 0.9902 - val_loss: 0.0388\n",
      "Epoch 10/10\n",
      "\u001b[1m750/750\u001b[0m \u001b[32m━━━━━━━━━━━━━━━━━━━━\u001b[0m\u001b[37m\u001b[0m \u001b[1m18s\u001b[0m 24ms/step - accuracy: 0.9869 - loss: 0.0424 - val_accuracy: 0.9913 - val_loss: 0.0282\n"
     ]
    }
   ],
   "source": [
    "import tensorflow as tf\n",
    "from tensorflow.keras.models import Sequential\n",
    "from tensorflow.keras.layers import Dense, Conv2D, MaxPooling2D, Flatten, Dropout\n",
    "\n",
    "# 모델 정의\n",
    "model = Sequential([\n",
    "    Conv2D(32, (3, 3), activation='relu', input_shape=(28, 28, 1)),\n",
    "    MaxPooling2D((2, 2)),\n",
    "    Dropout(0.25),\n",
    "    Conv2D(64, (3, 3), activation='relu'),\n",
    "    MaxPooling2D((2, 2)),\n",
    "    Dropout(0.25),\n",
    "    Flatten(),\n",
    "    Dense(128, activation='relu'),\n",
    "    Dropout(0.5),\n",
    "    Dense(10, activation='softmax')\n",
    "])\n",
    "\n",
    "# 컴파일\n",
    "model.compile(optimizer='adam', loss='sparse_categorical_crossentropy', metrics=['accuracy'])\n",
    "\n",
    "# 데이터 reshape (CNN 입력 형식에 맞게)\n",
    "X_train = X_train.reshape(-1, 28, 28, 1)\n",
    "X_val = X_val.reshape(-1, 28, 28, 1)\n",
    "\n",
    "# 학습\n",
    "history = model.fit(X_train, y_train, validation_data=(X_val, y_val), epochs=10, batch_size=64)\n"
   ]
  },
  {
   "cell_type": "markdown",
   "id": "2a649438-a2bb-4681-97ca-996b94345944",
   "metadata": {},
   "source": [
    "# 5. 검증 및 테스트"
   ]
  },
  {
   "cell_type": "code",
   "execution_count": 30,
   "id": "b91a703b-ab5f-467e-abf9-be7333f5bfc1",
   "metadata": {},
   "outputs": [
    {
     "name": "stdout",
     "output_type": "stream",
     "text": [
      "test_data shape before processing: (10000, 785)\n",
      "test_data shape after processing: (10000, 28, 28, 1)\n"
     ]
    }
   ],
   "source": [
    "# 테스트 데이터 크기 확인\n",
    "print(\"test_data shape before processing:\", test_data.shape)\n",
    "test_data = test_data[:, 1:]  # 첫 번째 열 제거\n",
    "\n",
    "# 정규화 및 차원 변환\n",
    "test_data = test_data.reshape(-1, 28, 28, 1)  # 28x28x1로 변환\n",
    "print(\"test_data shape after processing:\", test_data.shape)\n"
   ]
  },
  {
   "cell_type": "code",
   "execution_count": 32,
   "id": "c5ea31f0-2f2e-44f7-a63d-7839d45af12b",
   "metadata": {},
   "outputs": [
    {
     "name": "stdout",
     "output_type": "stream",
     "text": [
      "\u001b[1m375/375\u001b[0m \u001b[32m━━━━━━━━━━━━━━━━━━━━\u001b[0m\u001b[37m\u001b[0m \u001b[1m2s\u001b[0m 5ms/step - accuracy: 0.9917 - loss: 0.0272\n",
      "Validation Loss: 0.028159502893686295, Validation Accuracy: 0.9913333058357239\n",
      "\u001b[1m313/313\u001b[0m \u001b[32m━━━━━━━━━━━━━━━━━━━━\u001b[0m\u001b[37m\u001b[0m \u001b[1m2s\u001b[0m 5ms/step\n"
     ]
    }
   ],
   "source": [
    "# 검증 데이터 성능\n",
    "val_loss, val_acc = model.evaluate(X_val, y_val)\n",
    "print(f\"Validation Loss: {val_loss}, Validation Accuracy: {val_acc}\")\n",
    "\n",
    "# 테스트 데이터 로드 및 처리\n",
    "test_data = pd.read_csv('data/test.csv').values / 255.0\n",
    "test_data = test_data[:, 1:]  # 첫 번째 열 제거\n",
    "test_data = test_data.reshape(-1, 28, 28, 1)\n",
    "\n",
    "# 예측\n",
    "predictions = model.predict(test_data)\n",
    "predicted_labels = predictions.argmax(axis=1)\n"
   ]
  },
  {
   "cell_type": "code",
   "execution_count": null,
   "id": "497368f2-5f23-4826-9526-3b6c2b9d13d7",
   "metadata": {},
   "outputs": [],
   "source": []
  },
  {
   "cell_type": "markdown",
   "id": "0954b9a0-3b4a-4b86-a6dd-2394636fcae6",
   "metadata": {},
   "source": [
    "# 6. 결과 제출"
   ]
  },
  {
   "cell_type": "code",
   "execution_count": 33,
   "id": "d86efcf4-51db-4f87-9a41-ff1e10b3448c",
   "metadata": {},
   "outputs": [
    {
     "name": "stdout",
     "output_type": "stream",
     "text": [
      "Submission file saved as 'submission.csv'\n"
     ]
    }
   ],
   "source": [
    "submission = pd.DataFrame({\n",
    "    \"index\": range(len(predicted_labels)),\n",
    "    \"label\": predicted_labels\n",
    "})\n",
    "\n",
    "submission.to_csv('submission.csv', index=False)\n",
    "print(\"Submission file saved as 'submission.csv'\")\n"
   ]
  },
  {
   "cell_type": "code",
   "execution_count": null,
   "id": "cce2eb7e-603c-491e-973e-a7d9e3b924e6",
   "metadata": {},
   "outputs": [],
   "source": []
  }
 ],
 "metadata": {
  "kernelspec": {
   "display_name": "Python 3 (ipykernel)",
   "language": "python",
   "name": "python3"
  },
  "language_info": {
   "codemirror_mode": {
    "name": "ipython",
    "version": 3
   },
   "file_extension": ".py",
   "mimetype": "text/x-python",
   "name": "python",
   "nbconvert_exporter": "python",
   "pygments_lexer": "ipython3",
   "version": "3.11.5"
  }
 },
 "nbformat": 4,
 "nbformat_minor": 5
}
